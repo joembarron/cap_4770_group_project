{
 "cells": [
  {
   "cell_type": "code",
   "execution_count": null,
   "id": "1145386d",
   "metadata": {},
   "outputs": [],
   "source": [
    "pip install -r ./requirements.txt"
   ]
  },
  {
   "cell_type": "code",
   "execution_count": null,
   "id": "271791c1",
   "metadata": {},
   "outputs": [],
   "source": [
    "import time\n",
    "\n",
    "import pandas as pd\n",
    "\n",
    "from sklearn.ensemble import RandomForestRegressor\n",
    "from sklearn.model_selection import RandomizedSearchCV, train_test_split\n",
    "\n",
    "merged_book_attributes_gold = './data/gold/merged_book_attributes.csv'"
   ]
  },
  {
   "cell_type": "code",
   "execution_count": null,
   "id": "1674bc6b",
   "metadata": {},
   "outputs": [],
   "source": [
    "merged_book_attributes = pd.read_csv(merged_book_attributes_gold)"
   ]
  },
  {
   "cell_type": "code",
   "execution_count": null,
   "id": "354ec7b8",
   "metadata": {},
   "outputs": [],
   "source": [
    "X_train, X_test, y_train, y_test = train_test_split(merged_book_attributes[['price', 'full_review_sentiment_score', 'review_summary_sentiment_score', 'books_average_rating']], merged_book_attributes[['rating']], test_size=0.2, random_state=42)"
   ]
  },
  {
   "cell_type": "code",
   "execution_count": null,
   "id": "4883dfc0",
   "metadata": {},
   "outputs": [],
   "source": [
    "param_grid = {\n",
    "    \"n_estimators\": [x for x in range(200, 2001, 200)],\n",
    "    \"max_features\": [\"log2\", \"sqrt\"],\n",
    "    \"max_depth\": [x for x in range(10, 110, 10)],\n",
    "    \"min_samples_split\": [2, 4, 8],\n",
    "    \"bootstrap\": [True, False]\n",
    "}\n",
    "\n",
    "best_rf_regressor = RandomizedSearchCV(RandomForestRegressor(random_state=42), param_grid, n_jobs=-1, cv=5, scoring='r2')"
   ]
  },
  {
   "cell_type": "code",
   "execution_count": null,
   "id": "53825826",
   "metadata": {},
   "outputs": [],
   "source": [
    "start = time.time()\n",
    "best_rf_regressor.fit(X_train, y_train.values.ravel())\n",
    "stop = time.time()\n",
    "rf_regressor_training_time = round(stop - start, 2)"
   ]
  },
  {
   "cell_type": "code",
   "execution_count": null,
   "id": "30d20dfc",
   "metadata": {},
   "outputs": [],
   "source": [
    "print(f\"Random Forests training time: {rf_regressor_training_time}s\")\n",
    "\n",
    "print(\"Best parameters:\", best_rf_regressor.best_params_)\n",
    "print(\"Best r2 score:\", best_rf_regressor.best_score_)"
   ]
  },
  {
   "cell_type": "code",
   "execution_count": null,
   "id": "237218af",
   "metadata": {},
   "outputs": [],
   "source": [
    "print(f\"r2 score on test data: {best_rf_regressor.score(X_test, y_test)}\")"
   ]
  }
 ],
 "metadata": {
  "kernelspec": {
   "display_name": "conda_python3",
   "language": "python",
   "name": "conda_python3"
  },
  "language_info": {
   "codemirror_mode": {
    "name": "ipython",
    "version": 3
   },
   "file_extension": ".py",
   "mimetype": "text/x-python",
   "name": "python",
   "nbconvert_exporter": "python",
   "pygments_lexer": "ipython3",
   "version": "3.10.14"
  }
 },
 "nbformat": 4,
 "nbformat_minor": 5
}
