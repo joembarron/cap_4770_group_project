{
 "cells": [
  {
   "cell_type": "markdown",
   "id": "0d5dc66c-31e4-42f9-81b1-73e0858a8050",
   "metadata": {},
   "source": [
    "# Naive Bayes"
   ]
  },
  {
   "cell_type": "code",
   "execution_count": null,
   "id": "eccb8dc0-a161-4a16-8124-c88ec2a4b333",
   "metadata": {},
   "outputs": [],
   "source": [
    "import pandas as pd\n",
    "\n",
    "from sklearn.metrics import mean_squared_error, r2_score, classification_report\n",
    "from sklearn.model_selection import GridSearchCV, train_test_split\n",
    "from sklearn.naive_bayes import GaussianNB\n",
    "from sklearn.preprocessing import StandardScaler\n",
    "\n",
    "merged_book_attributes_gold = './data/gold/merged_book_attributes.csv'"
   ]
  },
  {
   "cell_type": "code",
   "execution_count": null,
   "id": "349f4645",
   "metadata": {},
   "outputs": [],
   "source": [
    "merged_book_attributes = pd.read_csv(merged_book_attributes_gold)"
   ]
  },
  {
   "cell_type": "code",
   "execution_count": null,
   "id": "1cba2a4e",
   "metadata": {},
   "outputs": [],
   "source": [
    "X_train, X_test, y_train, y_test = train_test_split(merged_book_attributes[['price', 'full_review_sentiment_score', 'review_summary_sentiment_score', 'books_average_rating']], merged_book_attributes[['rating']], test_size=0.2, random_state=42)"
   ]
  },
  {
   "cell_type": "code",
   "execution_count": null,
   "id": "d08ad366-2528-4488-acdc-73270e69fec7",
   "metadata": {},
   "outputs": [],
   "source": [
    "# modify data to work on categories instead of float values\n",
    "bins = [0, 1, 2, 3, 4, 5]\n",
    "labels = [1, 2, 3, 4, 5]\n",
    "merged_book_attributes['rating_category'] = pd.cut(merged_book_attributes['rating'], bins=bins, labels=labels, include_lowest=True)\n",
    "X = merged_book_attributes.drop(['rating', 'rating_category'], axis=1)\n",
    "y = merged_book_attributes['rating_category']"
   ]
  },
  {
   "cell_type": "code",
   "execution_count": null,
   "id": "19ca50e7-f834-452a-b1fb-e5ec384de0ed",
   "metadata": {},
   "outputs": [],
   "source": [
    "scaler = StandardScaler()\n",
    "X_train_scaled = scaler.fit_transform(X_train)\n",
    "X_test_scaled = scaler.transform(X_test)"
   ]
  },
  {
   "cell_type": "code",
   "execution_count": null,
   "id": "6edbd66a-a639-4949-a41b-abfbff3367e2",
   "metadata": {},
   "outputs": [],
   "source": [
    "nb = GaussianNB()\n",
    "nb.fit(X_train_scaled, y_train)"
   ]
  },
  {
   "cell_type": "code",
   "execution_count": null,
   "id": "a8f54690-a98c-4865-af21-f04838589f53",
   "metadata": {},
   "outputs": [],
   "source": [
    "y_pred = nb.predict(X_test_scaled)"
   ]
  },
  {
   "cell_type": "code",
   "execution_count": null,
   "id": "fd38f5c8-cd03-488b-adb5-38d4ba15490f",
   "metadata": {},
   "outputs": [],
   "source": [
    "mse = mean_squared_error(y_test, y_pred) # goal is 0\n",
    "r2 = r2_score(y_test, y_pred) # goal is positive number, the higher the better.\n",
    "print(classification_report(y_test, y_pred))\n",
    "print(f'Mean Squared Error: {mse}')\n",
    "print(f'R-squared Score: {r2}')"
   ]
  }
 ],
 "metadata": {
  "kernelspec": {
   "display_name": "conda_python3",
   "language": "python",
   "name": "conda_python3"
  },
  "language_info": {
   "codemirror_mode": {
    "name": "ipython",
    "version": 3
   },
   "file_extension": ".py",
   "mimetype": "text/x-python",
   "name": "python",
   "nbconvert_exporter": "python",
   "pygments_lexer": "ipython3",
   "version": "3.10.14"
  }
 },
 "nbformat": 4,
 "nbformat_minor": 5
}
