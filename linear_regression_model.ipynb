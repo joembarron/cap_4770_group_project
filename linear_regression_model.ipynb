{
 "cells": [
  {
   "cell_type": "code",
   "execution_count": null,
   "id": "1faf4056",
   "metadata": {
    "scrolled": true
   },
   "outputs": [],
   "source": [
    "pip install -r ./requirements.txt"
   ]
  },
  {
   "cell_type": "code",
   "execution_count": null,
   "id": "7bb477b5",
   "metadata": {},
   "outputs": [],
   "source": [
    "import time\n",
    "\n",
    "import pandas as pd\n",
    "\n",
    "from sklearn.linear_model import LinearRegression\n",
    "from sklearn.metrics import r2_score\n",
    "from sklearn.model_selection import train_test_split\n",
    "\n",
    "merged_book_attributes_gold = './data/gold/merged_book_attributes.csv'"
   ]
  },
  {
   "cell_type": "code",
   "execution_count": null,
   "id": "2b826501",
   "metadata": {},
   "outputs": [],
   "source": [
    "merged_book_attributes = pd.read_csv(merged_book_attributes_gold)"
   ]
  },
  {
   "cell_type": "code",
   "execution_count": null,
   "id": "719e70b4",
   "metadata": {},
   "outputs": [],
   "source": [
    "X_train, X_test, y_train, y_test = train_test_split(merged_book_attributes[['price', 'full_review_sentiment_score', 'review_summary_sentiment_score', 'books_average_rating']], merged_book_attributes[['rating']], test_size=0.2, random_state=42)"
   ]
  },
  {
   "cell_type": "code",
   "execution_count": null,
   "id": "a571a15f",
   "metadata": {},
   "outputs": [],
   "source": [
    "lnr_regressor = LinearRegression()"
   ]
  },
  {
   "cell_type": "code",
   "execution_count": null,
   "id": "d819266b",
   "metadata": {},
   "outputs": [],
   "source": [
    "start = time.time()\n",
    "lnr_regressor.fit(X_train, y_train)\n",
    "stop = time.time()\n",
    "lnr_regressor_training_time = round(stop - start, 2)\n",
    "print(f\"Linear Regression training time: {lnr_regressor_training_time}s\")"
   ]
  },
  {
   "cell_type": "code",
   "execution_count": null,
   "id": "626bfb82",
   "metadata": {},
   "outputs": [],
   "source": [
    "ratings_y_pred = lnr_regressor.predict(X_test)"
   ]
  },
  {
   "cell_type": "code",
   "execution_count": null,
   "id": "dbfe7c06",
   "metadata": {
    "scrolled": true
   },
   "outputs": [],
   "source": [
    "print(f\"Coefficients: {lnr_regressor.coef_}\")\n",
    "print(f\"r2 score on test data: {r2_score(y_test, ratings_y_pred)}\")"
   ]
  }
 ],
 "metadata": {
  "kernelspec": {
   "display_name": "conda_python3",
   "language": "python",
   "name": "conda_python3"
  },
  "language_info": {
   "codemirror_mode": {
    "name": "ipython",
    "version": 3
   },
   "file_extension": ".py",
   "mimetype": "text/x-python",
   "name": "python",
   "nbconvert_exporter": "python",
   "pygments_lexer": "ipython3",
   "version": "3.10.14"
  }
 },
 "nbformat": 4,
 "nbformat_minor": 5
}
