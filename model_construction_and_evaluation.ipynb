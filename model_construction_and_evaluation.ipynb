{
 "cells": [
  {
   "cell_type": "markdown",
   "id": "4813ea6c",
   "metadata": {},
   "source": [
    "### Work left to do\n",
    "\n",
    "##### 1(Abdul). Create a script that queries the Google Books API for each book in the books_data.csv dataset and retrieves the pageCount and averageRating fields from the response and adds them as columns to the enhanced_books_data.csv\n",
    "\n",
    "##### Expected columns: book_title, page_count, average_rating \n",
    "\n",
    "##### 2(Joseph). Sentiment analysis of the review/text to produce a column with either a positive(1) or negative(1) sentiment; said column can be used as a feature in a ML model\n",
    "\n",
    "##### 3. Four models have been built\n",
    "\n",
    "###### 1. Linear regression - Joseph draft \n",
    "###### 2. K-nearest neighbors - Joseph draft \n",
    "###### 3. _ model - Brian \n",
    "###### 4. _ model - Griffin \n",
    "\n",
    "##### 4(everyone). Analysis and Evaluation of model performance/model comparison\n",
    "\n",
    "##### 5(everyone). Lessons learned/things we would do differently/things we would do if we had more time \n",
    "\n",
    "# Everyone should be working in a single notebook. "
   ]
  },
  {
   "cell_type": "markdown",
   "id": "34cccde4",
   "metadata": {},
   "source": [
    "# Data pre-processing/filtering/cleaning"
   ]
  },
  {
   "cell_type": "code",
   "execution_count": null,
   "id": "12d0d466",
   "metadata": {},
   "outputs": [],
   "source": [
    "pip install textblob"
   ]
  },
  {
   "cell_type": "code",
   "execution_count": null,
   "id": "9bfca92b",
   "metadata": {},
   "outputs": [],
   "source": [
    "import matplotlib.pyplot as plt\n",
    "\n",
    "import pandas as pd\n",
    "\n",
    "from sklearn.ensemble import RandomForestRegressor\n",
    "from sklearn.linear_model import LinearRegression\n",
    "from sklearn.metrics import mean_squared_error, r2_score, silhouette_score\n",
    "from sklearn.model_selection import GridSearchCV, RandomizedSearchCV, train_test_split\n",
    "from sklearn.neighbors import KNeighborsRegressor\n",
    "from sklearn.preprocessing import OneHotEncoder\n",
    "\n",
    "from textblob import TextBlob\n",
    "\n",
    "books_refined_file_path = './data/refined/filtered_books.csv'\n",
    "book_ratings_file_path = './data/refined/filtered_book_ratings.csv'"
   ]
  },
  {
   "cell_type": "code",
   "execution_count": null,
   "id": "063005a4",
   "metadata": {
    "scrolled": true
   },
   "outputs": [],
   "source": [
    "books = pd.read_csv(books_refined_file_path, usecols=[\"title\",\"ratings_count\", \"published_date\"])\n",
    "\n",
    "books['published_date'] = books['published_date'].astype(int)\n",
    "books = books[books[\"ratings_count\"] >= 20]"
   ]
  },
  {
   "cell_type": "code",
   "execution_count": null,
   "id": "cd161e97",
   "metadata": {
    "scrolled": true
   },
   "outputs": [],
   "source": [
    "book_ratings = pd.read_csv(book_ratings_file_path, usecols=[\"user_id\", \"title\", \"price\", \"rating\", \"review_text\", \"review_summary\"])"
   ]
  },
  {
   "cell_type": "code",
   "execution_count": null,
   "id": "c068502e",
   "metadata": {},
   "outputs": [],
   "source": [
    "book_ratings_sum = book_ratings.groupby('title')['rating'].sum()\n",
    "book_ratings_sum = book_ratings_sum.to_frame('book_ratings_sum')"
   ]
  },
  {
   "cell_type": "code",
   "execution_count": null,
   "id": "388ed1e4",
   "metadata": {},
   "outputs": [],
   "source": [
    "book_ratings_count = book_ratings.groupby('title')['rating'].size()\n",
    "book_ratings_count = book_ratings_count.to_frame('book_ratings_count')"
   ]
  },
  {
   "cell_type": "code",
   "execution_count": null,
   "id": "55c2abd2",
   "metadata": {},
   "outputs": [],
   "source": [
    "merged_book_attributes = books.merge(book_ratings, on='title', how='inner')\\\n",
    "                              .drop_duplicates(subset=['title', 'user_id'], keep=False)\n",
    "\n",
    "merged_book_attributes = merged_book_attributes.merge(book_ratings_sum, on='title', how='left')\n",
    "merged_book_attributes = merged_book_attributes.merge(book_ratings_count, on='title', how='left')\n",
    "\n",
    "merged_book_attributes[\"books_average_rating\"] = (merged_book_attributes['book_ratings_sum'] - merged_book_attributes['rating']) / (merged_book_attributes['book_ratings_count'] - 1)\n",
    "merged_book_attributes['books_average_rating'] = merged_book_attributes['books_average_rating'].fillna(book_ratings['rating'].mean())\n",
    "                                \n",
    "merged_book_attributes = merged_book_attributes[['price', 'review_summary', 'review_text', 'books_average_rating', 'rating']]\n",
    "\n",
    "merged_book_attributes['full_review_sentiment_score'] = merged_book_attributes['review_text'].apply(lambda review: TextBlob(review).sentiment.polarity)\n",
    "merged_book_attributes['review_summary_sentiment_score'] = merged_book_attributes['review_summary'].apply(lambda review_summary: TextBlob(review_summary).sentiment.polarity)\n",
    "\n",
    "merged_book_attributes.drop('review_summary', axis=1, inplace=True)\n",
    "merged_book_attributes.drop('review_text', axis=1, inplace=True)\n",
    "\n",
    "columns = ['price', 'full_review_sentiment_score', 'review_summary_sentiment_score', 'books_average_rating', 'rating']\n",
    "merged_book_attributes = merged_book_attributes.reindex(columns=columns)\n",
    "\n",
    "merged_book_attributes.head()"
   ]
  },
  {
   "cell_type": "code",
   "execution_count": null,
   "id": "fd32432c",
   "metadata": {},
   "outputs": [],
   "source": [
    "X_train, X_test, y_train, y_test = train_test_split(merged_book_attributes[['price', 'full_review_sentiment_score', 'review_summary_sentiment_score', 'books_average_rating']], merged_book_attributes[['rating']], test_size=0.2, random_state=42)"
   ]
  },
  {
   "cell_type": "markdown",
   "id": "39d2a8c1",
   "metadata": {},
   "source": [
    "# Linear regression"
   ]
  },
  {
   "cell_type": "code",
   "execution_count": null,
   "id": "7510e0b5",
   "metadata": {},
   "outputs": [],
   "source": [
    "lnr_regressor = LinearRegression()"
   ]
  },
  {
   "cell_type": "code",
   "execution_count": null,
   "id": "c8f02f46",
   "metadata": {},
   "outputs": [],
   "source": [
    "lnr_regressor.fit(X_train, y_train)"
   ]
  },
  {
   "cell_type": "code",
   "execution_count": null,
   "id": "f87993c4",
   "metadata": {},
   "outputs": [],
   "source": [
    "ratings_y_pred = lnr_regressor.predict(X_test)"
   ]
  },
  {
   "cell_type": "code",
   "execution_count": null,
   "id": "80c3ef1c",
   "metadata": {},
   "outputs": [],
   "source": [
    "print(f\"Coefficients: {lnr_regressor.coef_}\")\n",
    "print(f\"r2 score on test data: {r2_score(y_test, ratings_y_pred)}\")"
   ]
  },
  {
   "cell_type": "markdown",
   "id": "511fef35",
   "metadata": {},
   "source": [
    "# K-nearest neighbors "
   ]
  },
  {
   "cell_type": "code",
   "execution_count": null,
   "id": "a8973128",
   "metadata": {
    "scrolled": true
   },
   "outputs": [],
   "source": [
    "knn_regressor = KNeighborsRegressor()\n",
    "param_grid = {'n_neighbors': range(1, 17), 'weights': ['uniform', 'distance']}\n",
    "grid_search = GridSearchCV(knn_regressor, param_grid, cv=5, scoring='r2')\n",
    "grid_search.fit(X_train, y_train)\n",
    "\n",
    "print(\"Best parameters:\", grid_search.best_params_)\n",
    "print(\"Best r2 score:\", grid_search.best_score_)"
   ]
  },
  {
   "cell_type": "code",
   "execution_count": null,
   "id": "aedae655",
   "metadata": {},
   "outputs": [],
   "source": [
    "best_params = grid_search.best_params_\n",
    "knn_regressor = KNeighborsRegressor(n_neighbors=best_params['n_neighbors'], weights=best_params['weights'])"
   ]
  },
  {
   "cell_type": "code",
   "execution_count": null,
   "id": "b7a92c6c",
   "metadata": {},
   "outputs": [],
   "source": [
    "knn_regressor.fit(X_train, y_train)"
   ]
  },
  {
   "cell_type": "code",
   "execution_count": null,
   "id": "a9926cf6",
   "metadata": {},
   "outputs": [],
   "source": [
    "print(f\"r2 score on test data: {knn_regressor.score(X_test, y_test)}\")"
   ]
  },
  {
   "cell_type": "code",
   "execution_count": null,
   "id": "a6eda6b8",
   "metadata": {},
   "outputs": [],
   "source": [
    "print(f\"r2 score on test data: {rf_regressor.score(X_test, y_test)}\")"
   ]
  },
  {
   "cell_type": "code",
   "execution_count": null,
   "id": "f16a2ecb",
   "metadata": {},
   "outputs": [],
   "source": [
    "knn_models = []\n",
    "for k in range(1, 17):\n",
    "    knn_regressor = KNeighborsRegressor(n_neighbors=k)\n",
    "    knn_models.append(knn_regressor)"
   ]
  },
  {
   "cell_type": "code",
   "execution_count": null,
   "id": "f484cd90",
   "metadata": {},
   "outputs": [],
   "source": [
    "mse_values = []\n",
    "for index, knn_regressor in enumerate(knn_models):\n",
    "    knn_regressor.fit(X_train, y_train)\n",
    "    y_pred = knn_regressor.predict(X_test)\n",
    "    mse = mean_squared_error(y_test, y_pred)\n",
    "    mse_values.append(mse)"
   ]
  },
  {
   "cell_type": "code",
   "execution_count": null,
   "id": "78808a79",
   "metadata": {
    "scrolled": true
   },
   "outputs": [],
   "source": [
    "plt.plot([i for i in range(1, len(knn_models) + 1)], mse_values)\n",
    "plt.xlabel('Number of Neighbors (k)')\n",
    "plt.ylabel('Mean Squared Error (MSE)')\n",
    "plt.title('Elbow plot for k-nearest neighbors regression model')\n",
    "plt.show()"
   ]
  },
  {
   "cell_type": "markdown",
   "id": "6e9c1f4a",
   "metadata": {},
   "source": [
    "# Random Forests"
   ]
  },
  {
   "cell_type": "code",
   "execution_count": null,
   "id": "8649cb3d",
   "metadata": {
    "scrolled": true
   },
   "outputs": [],
   "source": [
    "param_grid = {\n",
    "    \"n_estimators\": [x for x in range(200, 2001, 200)],\n",
    "    \"max_features\": [\"log2\", \"sqrt\"],\n",
    "    \"max_depth\": [x for x in range(10, 110, 10)],\n",
    "    \"min_samples_split\": [2, 4, 8],\n",
    "    \"bootstrap\": [True, False]\n",
    "}\n",
    "\n",
    "random_search = RandomizedSearchCV(RandomForestRegressor(random_state=42), param_grid, n_jobs=-1, cv=5, scoring='r2')\n",
    "\n",
    "random_search.fit(X_train, y_train.values.ravel())\n",
    "\n",
    "print(\"Best parameters:\", random_search.best_params_)\n",
    "print(\"Best r2 score:\", random_search.best_score_)"
   ]
  },
  {
   "cell_type": "code",
   "execution_count": null,
   "id": "7351d5a8",
   "metadata": {},
   "outputs": [],
   "source": [
    "best_params = random_search.best_params_\n",
    "rf_regressor = RandomForestRegressor(n_estimators=best_params['n_estimators'], min_samples_split=best_params['min_samples_split'], max_features=best_params['max_features'], max_depth=best_params['max_depth'], bootstrap=best_params['bootstrap'])"
   ]
  },
  {
   "cell_type": "code",
   "execution_count": null,
   "id": "5bc9d8df",
   "metadata": {},
   "outputs": [],
   "source": [
    "rf_regressor.fit(X_train, y_train.values.ravel())"
   ]
  },
  {
   "cell_type": "code",
   "execution_count": null,
   "id": "af3773ef",
   "metadata": {},
   "outputs": [],
   "source": [
    "print(f\"r2 score on test data: {rf_regressor.score(X_test, y_test)}\")"
   ]
  },
  {
   "cell_type": "markdown",
   "id": "38075ef9",
   "metadata": {},
   "source": [
    "# Neural Network"
   ]
  },
  {
   "cell_type": "code",
   "execution_count": 1,
   "id": "2d75938c",
   "metadata": {
    "scrolled": false
   },
   "outputs": [
    {
     "name": "stdout",
     "output_type": "stream",
     "text": [
      "Collecting boto3==1.28.3\n",
      "  Downloading boto3-1.28.3-py3-none-any.whl.metadata (6.6 kB)\n",
      "Collecting botocore<1.32.0,>=1.31.3 (from boto3==1.28.3)\n",
      "  Downloading botocore-1.31.85-py3-none-any.whl.metadata (6.1 kB)\n",
      "Requirement already satisfied: jmespath<2.0.0,>=0.7.1 in /home/ec2-user/anaconda3/envs/python3/lib/python3.10/site-packages (from boto3==1.28.3) (1.0.1)\n",
      "Collecting s3transfer<0.7.0,>=0.6.0 (from boto3==1.28.3)\n",
      "  Downloading s3transfer-0.6.2-py3-none-any.whl.metadata (1.8 kB)\n",
      "Requirement already satisfied: python-dateutil<3.0.0,>=2.1 in /home/ec2-user/anaconda3/envs/python3/lib/python3.10/site-packages (from botocore<1.32.0,>=1.31.3->boto3==1.28.3) (2.9.0)\n",
      "Collecting urllib3<2.1,>=1.25.4 (from botocore<1.32.0,>=1.31.3->boto3==1.28.3)\n",
      "  Downloading urllib3-2.0.7-py3-none-any.whl.metadata (6.6 kB)\n",
      "Requirement already satisfied: six>=1.5 in /home/ec2-user/anaconda3/envs/python3/lib/python3.10/site-packages (from python-dateutil<3.0.0,>=2.1->botocore<1.32.0,>=1.31.3->boto3==1.28.3) (1.16.0)\n",
      "Downloading boto3-1.28.3-py3-none-any.whl (135 kB)\n",
      "\u001b[2K   \u001b[90m━━━━━━━━━━━━━━━━━━━━━━━━━━━━━━━━━━━━━━━━\u001b[0m \u001b[32m135.7/135.7 kB\u001b[0m \u001b[31m10.7 MB/s\u001b[0m eta \u001b[36m0:00:00\u001b[0m\n",
      "\u001b[?25hDownloading botocore-1.31.85-py3-none-any.whl (11.3 MB)\n",
      "\u001b[2K   \u001b[90m━━━━━━━━━━━━━━━━━━━━━━━━━━━━━━━━━━━━━━━━\u001b[0m \u001b[32m11.3/11.3 MB\u001b[0m \u001b[31m47.4 MB/s\u001b[0m eta \u001b[36m0:00:00\u001b[0m:00:01\u001b[0m0:01\u001b[0m\n",
      "\u001b[?25hDownloading s3transfer-0.6.2-py3-none-any.whl (79 kB)\n",
      "\u001b[2K   \u001b[90m━━━━━━━━━━━━━━━━━━━━━━━━━━━━━━━━━━━━━━━━\u001b[0m \u001b[32m79.8/79.8 kB\u001b[0m \u001b[31m874.1 kB/s\u001b[0m eta \u001b[36m0:00:00\u001b[0ma \u001b[36m0:00:01\u001b[0m\n",
      "\u001b[?25hDownloading urllib3-2.0.7-py3-none-any.whl (124 kB)\n",
      "\u001b[2K   \u001b[90m━━━━━━━━━━━━━━━━━━━━━━━━━━━━━━━━━━━━━━━━\u001b[0m \u001b[32m124.2/124.2 kB\u001b[0m \u001b[31m24.7 MB/s\u001b[0m eta \u001b[36m0:00:00\u001b[0m\n",
      "\u001b[?25hInstalling collected packages: urllib3, botocore, s3transfer, boto3\n",
      "  Attempting uninstall: urllib3\n",
      "    Found existing installation: urllib3 2.2.1\n",
      "    Uninstalling urllib3-2.2.1:\n",
      "      Successfully uninstalled urllib3-2.2.1\n",
      "  Attempting uninstall: botocore\n",
      "    Found existing installation: botocore 1.34.142\n",
      "    Uninstalling botocore-1.34.142:\n",
      "      Successfully uninstalled botocore-1.34.142\n",
      "  Attempting uninstall: s3transfer\n",
      "    Found existing installation: s3transfer 0.10.1\n",
      "    Uninstalling s3transfer-0.10.1:\n",
      "      Successfully uninstalled s3transfer-0.10.1\n",
      "  Attempting uninstall: boto3\n",
      "    Found existing installation: boto3 1.34.142\n",
      "    Uninstalling boto3-1.34.142:\n",
      "      Successfully uninstalled boto3-1.34.142\n",
      "\u001b[31mERROR: pip's dependency resolver does not currently take into account all the packages that are installed. This behaviour is the source of the following dependency conflicts.\n",
      "awscli 1.33.24 requires botocore==1.34.142, but you have botocore 1.31.85 which is incompatible.\n",
      "awscli 1.33.24 requires s3transfer<0.11.0,>=0.10.0, but you have s3transfer 0.6.2 which is incompatible.\n",
      "sagemaker 2.224.4 requires boto3<2.0,>=1.33.3, but you have boto3 1.28.3 which is incompatible.\n",
      "sparkmagic 0.21.0 requires pandas<2.0.0,>=0.17.1, but you have pandas 2.2.2 which is incompatible.\n",
      "sphinx 7.3.7 requires docutils<0.22,>=0.18.1, but you have docutils 0.16 which is incompatible.\u001b[0m\u001b[31m\n",
      "\u001b[0mSuccessfully installed boto3-1.28.3 botocore-1.31.85 s3transfer-0.6.2 urllib3-2.0.7\n",
      "Collecting pandas==1.5.3\n",
      "  Downloading pandas-1.5.3-cp310-cp310-manylinux_2_17_x86_64.manylinux2014_x86_64.whl.metadata (11 kB)\n",
      "Requirement already satisfied: python-dateutil>=2.8.1 in /home/ec2-user/anaconda3/envs/python3/lib/python3.10/site-packages (from pandas==1.5.3) (2.9.0)\n",
      "Requirement already satisfied: pytz>=2020.1 in /home/ec2-user/anaconda3/envs/python3/lib/python3.10/site-packages (from pandas==1.5.3) (2024.1)\n",
      "Requirement already satisfied: numpy>=1.21.0 in /home/ec2-user/anaconda3/envs/python3/lib/python3.10/site-packages (from pandas==1.5.3) (1.21.0)\n",
      "Requirement already satisfied: six>=1.5 in /home/ec2-user/anaconda3/envs/python3/lib/python3.10/site-packages (from python-dateutil>=2.8.1->pandas==1.5.3) (1.16.0)\n",
      "Downloading pandas-1.5.3-cp310-cp310-manylinux_2_17_x86_64.manylinux2014_x86_64.whl (12.1 MB)\n",
      "\u001b[2K   \u001b[90m━━━━━━━━━━━━━━━━━━━━━━━━━━━━━━━━━━━━━━━━\u001b[0m \u001b[32m12.1/12.1 MB\u001b[0m \u001b[31m124.8 MB/s\u001b[0m eta \u001b[36m0:00:00\u001b[0m00:01\u001b[0m0:01\u001b[0m\n",
      "\u001b[?25hInstalling collected packages: pandas\n",
      "  Attempting uninstall: pandas\n",
      "    Found existing installation: pandas 2.2.2\n",
      "    Uninstalling pandas-2.2.2:\n",
      "      Successfully uninstalled pandas-2.2.2\n",
      "\u001b[31mERROR: pip's dependency resolver does not currently take into account all the packages that are installed. This behaviour is the source of the following dependency conflicts.\n",
      "dask-expr 1.1.2 requires pandas>=2, but you have pandas 1.5.3 which is incompatible.\n",
      "sagemaker 2.224.4 requires boto3<2.0,>=1.33.3, but you have boto3 1.28.3 which is incompatible.\n",
      "statsmodels 0.14.2 requires numpy>=1.22.3, but you have numpy 1.21.0 which is incompatible.\u001b[0m\u001b[31m\n",
      "\u001b[0mSuccessfully installed pandas-1.5.3\n",
      "Collecting numpy==1.23.5\n",
      "  Downloading numpy-1.23.5-cp310-cp310-manylinux_2_17_x86_64.manylinux2014_x86_64.whl.metadata (2.3 kB)\n",
      "Downloading numpy-1.23.5-cp310-cp310-manylinux_2_17_x86_64.manylinux2014_x86_64.whl (17.1 MB)\n",
      "\u001b[2K   \u001b[90m━━━━━━━━━━━━━━━━━━━━━━━━━━━━━━━━━━━━━━━━\u001b[0m \u001b[32m17.1/17.1 MB\u001b[0m \u001b[31m109.8 MB/s\u001b[0m eta \u001b[36m0:00:00\u001b[0m00:01\u001b[0m0:01\u001b[0m\n",
      "\u001b[?25hInstalling collected packages: numpy\n",
      "  Attempting uninstall: numpy\n",
      "    Found existing installation: numpy 1.21.0\n",
      "    Uninstalling numpy-1.21.0:\n",
      "      Successfully uninstalled numpy-1.21.0\n",
      "\u001b[31mERROR: pip's dependency resolver does not currently take into account all the packages that are installed. This behaviour is the source of the following dependency conflicts.\n",
      "mkl-fft 1.3.10 requires mkl, which is not installed.\n",
      "sagemaker 2.224.4 requires boto3<2.0,>=1.33.3, but you have boto3 1.28.3 which is incompatible.\u001b[0m\u001b[31m\n",
      "\u001b[0mSuccessfully installed numpy-1.23.5\n",
      "Collecting tensorflow==2.12.0\n",
      "  Downloading tensorflow-2.12.0-cp310-cp310-manylinux_2_17_x86_64.manylinux2014_x86_64.whl.metadata (3.4 kB)\n",
      "Requirement already satisfied: absl-py>=1.0.0 in /home/ec2-user/anaconda3/envs/python3/lib/python3.10/site-packages (from tensorflow==2.12.0) (2.1.0)\n",
      "Requirement already satisfied: astunparse>=1.6.0 in /home/ec2-user/anaconda3/envs/python3/lib/python3.10/site-packages (from tensorflow==2.12.0) (1.6.3)\n",
      "Requirement already satisfied: flatbuffers>=2.0 in /home/ec2-user/anaconda3/envs/python3/lib/python3.10/site-packages (from tensorflow==2.12.0) (24.3.25)\n",
      "Requirement already satisfied: gast<=0.4.0,>=0.2.1 in /home/ec2-user/anaconda3/envs/python3/lib/python3.10/site-packages (from tensorflow==2.12.0) (0.4.0)\n",
      "Requirement already satisfied: google-pasta>=0.1.1 in /home/ec2-user/anaconda3/envs/python3/lib/python3.10/site-packages (from tensorflow==2.12.0) (0.2.0)\n",
      "Requirement already satisfied: grpcio<2.0,>=1.24.3 in /home/ec2-user/anaconda3/envs/python3/lib/python3.10/site-packages (from tensorflow==2.12.0) (1.65.2)\n",
      "Requirement already satisfied: h5py>=2.9.0 in /home/ec2-user/anaconda3/envs/python3/lib/python3.10/site-packages (from tensorflow==2.12.0) (3.11.0)\n",
      "Collecting jax>=0.3.15 (from tensorflow==2.12.0)\n",
      "  Downloading jax-0.4.31-py3-none-any.whl.metadata (22 kB)\n",
      "Collecting keras<2.13,>=2.12.0 (from tensorflow==2.12.0)\n",
      "  Downloading keras-2.12.0-py2.py3-none-any.whl.metadata (1.4 kB)\n",
      "Requirement already satisfied: libclang>=13.0.0 in /home/ec2-user/anaconda3/envs/python3/lib/python3.10/site-packages (from tensorflow==2.12.0) (18.1.1)\n",
      "Requirement already satisfied: numpy<1.24,>=1.22 in /home/ec2-user/anaconda3/envs/python3/lib/python3.10/site-packages (from tensorflow==2.12.0) (1.23.5)\n",
      "Requirement already satisfied: opt-einsum>=2.3.2 in /home/ec2-user/anaconda3/envs/python3/lib/python3.10/site-packages (from tensorflow==2.12.0) (3.3.0)\n",
      "Requirement already satisfied: packaging in /home/ec2-user/anaconda3/envs/python3/lib/python3.10/site-packages (from tensorflow==2.12.0) (21.3)\n",
      "Collecting protobuf!=4.21.0,!=4.21.1,!=4.21.2,!=4.21.3,!=4.21.4,!=4.21.5,<5.0.0dev,>=3.20.3 (from tensorflow==2.12.0)\n",
      "  Downloading protobuf-4.25.4-cp37-abi3-manylinux2014_x86_64.whl.metadata (541 bytes)\n",
      "Requirement already satisfied: setuptools in /home/ec2-user/anaconda3/envs/python3/lib/python3.10/site-packages (from tensorflow==2.12.0) (70.0.0)\n",
      "Requirement already satisfied: six>=1.12.0 in /home/ec2-user/anaconda3/envs/python3/lib/python3.10/site-packages (from tensorflow==2.12.0) (1.16.0)\n",
      "Collecting tensorboard<2.13,>=2.12 (from tensorflow==2.12.0)\n",
      "  Downloading tensorboard-2.12.3-py3-none-any.whl.metadata (1.8 kB)\n",
      "Collecting tensorflow-estimator<2.13,>=2.12.0 (from tensorflow==2.12.0)\n",
      "  Downloading tensorflow_estimator-2.12.0-py2.py3-none-any.whl.metadata (1.3 kB)\n",
      "Requirement already satisfied: termcolor>=1.1.0 in /home/ec2-user/anaconda3/envs/python3/lib/python3.10/site-packages (from tensorflow==2.12.0) (2.4.0)\n",
      "Requirement already satisfied: typing-extensions>=3.6.6 in /home/ec2-user/anaconda3/envs/python3/lib/python3.10/site-packages (from tensorflow==2.12.0) (4.12.1)\n",
      "Collecting wrapt<1.15,>=1.11.0 (from tensorflow==2.12.0)\n",
      "  Downloading wrapt-1.14.1-cp310-cp310-manylinux_2_5_x86_64.manylinux1_x86_64.manylinux_2_17_x86_64.manylinux2014_x86_64.whl.metadata (6.7 kB)\n",
      "Requirement already satisfied: tensorflow-io-gcs-filesystem>=0.23.1 in /home/ec2-user/anaconda3/envs/python3/lib/python3.10/site-packages (from tensorflow==2.12.0) (0.37.1)\n",
      "Requirement already satisfied: wheel<1.0,>=0.23.0 in /home/ec2-user/anaconda3/envs/python3/lib/python3.10/site-packages (from astunparse>=1.6.0->tensorflow==2.12.0) (0.43.0)\n",
      "Collecting jaxlib<=0.4.31,>=0.4.30 (from jax>=0.3.15->tensorflow==2.12.0)\n",
      "  Downloading jaxlib-0.4.31-cp310-cp310-manylinux2014_x86_64.whl.metadata (983 bytes)\n",
      "Collecting ml-dtypes>=0.2.0 (from jax>=0.3.15->tensorflow==2.12.0)\n",
      "  Downloading ml_dtypes-0.4.0-cp310-cp310-manylinux_2_17_x86_64.manylinux2014_x86_64.whl.metadata (20 kB)\n",
      "INFO: pip is looking at multiple versions of jax to determine which version is compatible with other requirements. This could take a while.\n",
      "Collecting jax>=0.3.15 (from tensorflow==2.12.0)\n",
      "  Downloading jax-0.4.30-py3-none-any.whl.metadata (22 kB)\n",
      "Collecting jaxlib<=0.4.30,>=0.4.27 (from jax>=0.3.15->tensorflow==2.12.0)\n",
      "  Downloading jaxlib-0.4.30-cp310-cp310-manylinux2014_x86_64.whl.metadata (1.0 kB)\n",
      "Requirement already satisfied: scipy>=1.9 in /home/ec2-user/anaconda3/envs/python3/lib/python3.10/site-packages (from jax>=0.3.15->tensorflow==2.12.0) (1.13.1)\n",
      "Requirement already satisfied: google-auth<3,>=1.6.3 in /home/ec2-user/anaconda3/envs/python3/lib/python3.10/site-packages (from tensorboard<2.13,>=2.12->tensorflow==2.12.0) (2.32.0)\n",
      "Collecting google-auth-oauthlib<1.1,>=0.5 (from tensorboard<2.13,>=2.12->tensorflow==2.12.0)\n",
      "  Downloading google_auth_oauthlib-1.0.0-py2.py3-none-any.whl.metadata (2.7 kB)\n",
      "Requirement already satisfied: markdown>=2.6.8 in /home/ec2-user/anaconda3/envs/python3/lib/python3.10/site-packages (from tensorboard<2.13,>=2.12->tensorflow==2.12.0) (3.6)\n",
      "Requirement already satisfied: requests<3,>=2.21.0 in /home/ec2-user/anaconda3/envs/python3/lib/python3.10/site-packages (from tensorboard<2.13,>=2.12->tensorflow==2.12.0) (2.32.3)\n",
      "Collecting tensorboard-data-server<0.8.0,>=0.7.0 (from tensorboard<2.13,>=2.12->tensorflow==2.12.0)\n",
      "  Downloading tensorboard_data_server-0.7.2-py3-none-any.whl.metadata (1.1 kB)\n",
      "Requirement already satisfied: werkzeug>=1.0.1 in /home/ec2-user/anaconda3/envs/python3/lib/python3.10/site-packages (from tensorboard<2.13,>=2.12->tensorflow==2.12.0) (3.0.3)\n",
      "Requirement already satisfied: pyparsing!=3.0.5,>=2.0.2 in /home/ec2-user/anaconda3/envs/python3/lib/python3.10/site-packages (from packaging->tensorflow==2.12.0) (3.1.2)\n",
      "Requirement already satisfied: cachetools<6.0,>=2.0.0 in /home/ec2-user/anaconda3/envs/python3/lib/python3.10/site-packages (from google-auth<3,>=1.6.3->tensorboard<2.13,>=2.12->tensorflow==2.12.0) (5.4.0)\n",
      "Requirement already satisfied: pyasn1-modules>=0.2.1 in /home/ec2-user/anaconda3/envs/python3/lib/python3.10/site-packages (from google-auth<3,>=1.6.3->tensorboard<2.13,>=2.12->tensorflow==2.12.0) (0.4.0)\n",
      "Requirement already satisfied: rsa<5,>=3.1.4 in /home/ec2-user/anaconda3/envs/python3/lib/python3.10/site-packages (from google-auth<3,>=1.6.3->tensorboard<2.13,>=2.12->tensorflow==2.12.0) (4.7.2)\n",
      "Requirement already satisfied: requests-oauthlib>=0.7.0 in /home/ec2-user/anaconda3/envs/python3/lib/python3.10/site-packages (from google-auth-oauthlib<1.1,>=0.5->tensorboard<2.13,>=2.12->tensorflow==2.12.0) (2.0.0)\n",
      "Requirement already satisfied: charset-normalizer<4,>=2 in /home/ec2-user/anaconda3/envs/python3/lib/python3.10/site-packages (from requests<3,>=2.21.0->tensorboard<2.13,>=2.12->tensorflow==2.12.0) (3.3.2)\n",
      "Requirement already satisfied: idna<4,>=2.5 in /home/ec2-user/anaconda3/envs/python3/lib/python3.10/site-packages (from requests<3,>=2.21.0->tensorboard<2.13,>=2.12->tensorflow==2.12.0) (3.7)\n",
      "Requirement already satisfied: urllib3<3,>=1.21.1 in /home/ec2-user/anaconda3/envs/python3/lib/python3.10/site-packages (from requests<3,>=2.21.0->tensorboard<2.13,>=2.12->tensorflow==2.12.0) (2.0.7)\n",
      "Requirement already satisfied: certifi>=2017.4.17 in /home/ec2-user/anaconda3/envs/python3/lib/python3.10/site-packages (from requests<3,>=2.21.0->tensorboard<2.13,>=2.12->tensorflow==2.12.0) (2024.6.2)\n",
      "Requirement already satisfied: MarkupSafe>=2.1.1 in /home/ec2-user/anaconda3/envs/python3/lib/python3.10/site-packages (from werkzeug>=1.0.1->tensorboard<2.13,>=2.12->tensorflow==2.12.0) (2.1.5)\n",
      "Requirement already satisfied: pyasn1<0.7.0,>=0.4.6 in /home/ec2-user/anaconda3/envs/python3/lib/python3.10/site-packages (from pyasn1-modules>=0.2.1->google-auth<3,>=1.6.3->tensorboard<2.13,>=2.12->tensorflow==2.12.0) (0.6.0)\n",
      "Requirement already satisfied: oauthlib>=3.0.0 in /home/ec2-user/anaconda3/envs/python3/lib/python3.10/site-packages (from requests-oauthlib>=0.7.0->google-auth-oauthlib<1.1,>=0.5->tensorboard<2.13,>=2.12->tensorflow==2.12.0) (3.2.2)\n",
      "Downloading tensorflow-2.12.0-cp310-cp310-manylinux_2_17_x86_64.manylinux2014_x86_64.whl (585.9 MB)\n",
      "\u001b[2K   \u001b[90m━━━━━━━━━━━━━━━━━━━━━━━━━━━━━━━━━━━━━━━━\u001b[0m \u001b[32m585.9/585.9 MB\u001b[0m \u001b[31m2.7 MB/s\u001b[0m eta \u001b[36m0:00:00\u001b[0m:00:01\u001b[0m00:01\u001b[0m\n",
      "\u001b[?25hDownloading jax-0.4.30-py3-none-any.whl (2.0 MB)\n",
      "\u001b[2K   \u001b[90m━━━━━━━━━━━━━━━━━━━━━━━━━━━━━━━━━━━━━━━━\u001b[0m \u001b[32m2.0/2.0 MB\u001b[0m \u001b[31m26.4 MB/s\u001b[0m eta \u001b[36m0:00:00\u001b[0m:00:01\u001b[0m\n",
      "\u001b[?25hDownloading keras-2.12.0-py2.py3-none-any.whl (1.7 MB)\n",
      "\u001b[2K   \u001b[90m━━━━━━━━━━━━━━━━━━━━━━━━━━━━━━━━━━━━━━━━\u001b[0m \u001b[32m1.7/1.7 MB\u001b[0m \u001b[31m16.0 MB/s\u001b[0m eta \u001b[36m0:00:00\u001b[0m:00:01\u001b[0m\n",
      "\u001b[?25hDownloading protobuf-4.25.4-cp37-abi3-manylinux2014_x86_64.whl (294 kB)\n",
      "\u001b[2K   \u001b[90m━━━━━━━━━━━━━━━━━━━━━━━━━━━━━━━━━━━━━━━━\u001b[0m \u001b[32m294.6/294.6 kB\u001b[0m \u001b[31m3.4 MB/s\u001b[0m eta \u001b[36m0:00:00\u001b[0mta \u001b[36m0:00:01\u001b[0m\n",
      "\u001b[?25hDownloading tensorboard-2.12.3-py3-none-any.whl (5.6 MB)\n",
      "\u001b[2K   \u001b[90m━━━━━━━━━━━━━━━━━━━━━━━━━━━━━━━━━━━━━━━━\u001b[0m \u001b[32m5.6/5.6 MB\u001b[0m \u001b[31m136.9 MB/s\u001b[0m eta \u001b[36m0:00:00\u001b[0m00:01\u001b[0m\n",
      "\u001b[?25hDownloading tensorflow_estimator-2.12.0-py2.py3-none-any.whl (440 kB)\n",
      "\u001b[2K   \u001b[90m━━━━━━━━━━━━━━━━━━━━━━━━━━━━━━━━━━━━━━━━\u001b[0m \u001b[32m440.7/440.7 kB\u001b[0m \u001b[31m53.9 MB/s\u001b[0m eta \u001b[36m0:00:00\u001b[0m\n",
      "\u001b[?25hDownloading wrapt-1.14.1-cp310-cp310-manylinux_2_5_x86_64.manylinux1_x86_64.manylinux_2_17_x86_64.manylinux2014_x86_64.whl (77 kB)\n",
      "\u001b[2K   \u001b[90m━━━━━━━━━━━━━━━━━━━━━━━━━━━━━━━━━━━━━━━━\u001b[0m \u001b[32m77.9/77.9 kB\u001b[0m \u001b[31m17.4 MB/s\u001b[0m eta \u001b[36m0:00:00\u001b[0m\n",
      "\u001b[?25hDownloading google_auth_oauthlib-1.0.0-py2.py3-none-any.whl (18 kB)\n",
      "Downloading jaxlib-0.4.30-cp310-cp310-manylinux2014_x86_64.whl (79.6 MB)\n",
      "\u001b[2K   \u001b[90m━━━━━━━━━━━━━━━━━━━━━━━━━━━━━━━━━━━━━━━━\u001b[0m \u001b[32m79.6/79.6 MB\u001b[0m \u001b[31m38.4 MB/s\u001b[0m eta \u001b[36m0:00:00\u001b[0m:00:01\u001b[0m00:01\u001b[0m\n",
      "\u001b[?25hDownloading ml_dtypes-0.4.0-cp310-cp310-manylinux_2_17_x86_64.manylinux2014_x86_64.whl (2.2 MB)\n",
      "\u001b[2K   \u001b[90m━━━━━━━━━━━━━━━━━━━━━━━━━━━━━━━━━━━━━━━━\u001b[0m \u001b[32m2.2/2.2 MB\u001b[0m \u001b[31m128.2 MB/s\u001b[0m eta \u001b[36m0:00:00\u001b[0m\n",
      "\u001b[?25hDownloading tensorboard_data_server-0.7.2-py3-none-any.whl (2.4 kB)\n",
      "Installing collected packages: wrapt, tensorflow-estimator, tensorboard-data-server, protobuf, ml-dtypes, keras, jaxlib, jax, google-auth-oauthlib, tensorboard, tensorflow\n",
      "  Attempting uninstall: wrapt\n",
      "    Found existing installation: wrapt 1.16.0\n",
      "    Uninstalling wrapt-1.16.0:\n",
      "      Successfully uninstalled wrapt-1.16.0\n",
      "  Attempting uninstall: tensorflow-estimator\n",
      "    Found existing installation: tensorflow-estimator 2.10.0\n",
      "    Uninstalling tensorflow-estimator-2.10.0:\n",
      "      Successfully uninstalled tensorflow-estimator-2.10.0\n",
      "  Attempting uninstall: tensorboard-data-server\n",
      "    Found existing installation: tensorboard-data-server 0.6.1\n",
      "    Uninstalling tensorboard-data-server-0.6.1:\n",
      "      Successfully uninstalled tensorboard-data-server-0.6.1\n",
      "  Attempting uninstall: protobuf\n",
      "    Found existing installation: protobuf 3.19.6\n",
      "    Uninstalling protobuf-3.19.6:\n",
      "      Successfully uninstalled protobuf-3.19.6\n",
      "  Attempting uninstall: keras\n",
      "    Found existing installation: keras 2.10.0\n",
      "    Uninstalling keras-2.10.0:\n",
      "      Successfully uninstalled keras-2.10.0\n",
      "  Attempting uninstall: google-auth-oauthlib\n",
      "    Found existing installation: google-auth-oauthlib 0.4.6\n",
      "    Uninstalling google-auth-oauthlib-0.4.6:\n",
      "      Successfully uninstalled google-auth-oauthlib-0.4.6\n",
      "  Attempting uninstall: tensorboard\n",
      "    Found existing installation: tensorboard 2.10.1\n",
      "    Uninstalling tensorboard-2.10.1:\n",
      "      Successfully uninstalled tensorboard-2.10.1\n",
      "  Attempting uninstall: tensorflow\n",
      "    Found existing installation: tensorflow 2.10.0\n",
      "    Uninstalling tensorflow-2.10.0:\n",
      "      Successfully uninstalled tensorflow-2.10.0\n",
      "\u001b[31mERROR: pip's dependency resolver does not currently take into account all the packages that are installed. This behaviour is the source of the following dependency conflicts.\n",
      "sagemaker 2.224.4 requires boto3<2.0,>=1.33.3, but you have boto3 1.28.3 which is incompatible.\u001b[0m\u001b[31m\n",
      "\u001b[0mSuccessfully installed google-auth-oauthlib-1.0.0 jax-0.4.30 jaxlib-0.4.30 keras-2.12.0 ml-dtypes-0.4.0 protobuf-4.25.4 tensorboard-2.12.3 tensorboard-data-server-0.7.2 tensorflow-2.12.0 tensorflow-estimator-2.12.0 wrapt-1.14.1\n",
      "Collecting scikit-learn==1.2.2\n",
      "  Downloading scikit_learn-1.2.2-cp310-cp310-manylinux_2_17_x86_64.manylinux2014_x86_64.whl.metadata (11 kB)\n",
      "Requirement already satisfied: numpy>=1.17.3 in /home/ec2-user/anaconda3/envs/python3/lib/python3.10/site-packages (from scikit-learn==1.2.2) (1.23.5)\n",
      "Requirement already satisfied: scipy>=1.3.2 in /home/ec2-user/anaconda3/envs/python3/lib/python3.10/site-packages (from scikit-learn==1.2.2) (1.13.1)\n",
      "Requirement already satisfied: joblib>=1.1.1 in /home/ec2-user/anaconda3/envs/python3/lib/python3.10/site-packages (from scikit-learn==1.2.2) (1.4.2)\n",
      "Requirement already satisfied: threadpoolctl>=2.0.0 in /home/ec2-user/anaconda3/envs/python3/lib/python3.10/site-packages (from scikit-learn==1.2.2) (3.5.0)\n",
      "Downloading scikit_learn-1.2.2-cp310-cp310-manylinux_2_17_x86_64.manylinux2014_x86_64.whl (9.6 MB)\n",
      "\u001b[2K   \u001b[90m━━━━━━━━━━━━━━━━━━━━━━━━━━━━━━━━━━━━━━━━\u001b[0m \u001b[32m9.6/9.6 MB\u001b[0m \u001b[31m32.7 MB/s\u001b[0m eta \u001b[36m0:00:00\u001b[0m:00:01\u001b[0m00:01\u001b[0m\n",
      "\u001b[?25hInstalling collected packages: scikit-learn\n",
      "  Attempting uninstall: scikit-learn\n",
      "    Found existing installation: scikit-learn 1.5.0\n",
      "    Uninstalling scikit-learn-1.5.0:\n",
      "      Successfully uninstalled scikit-learn-1.5.0\n",
      "Successfully installed scikit-learn-1.2.2\n"
     ]
    }
   ],
   "source": [
    "!pip install boto3==1.28.3\n",
    "!pip install pandas==1.5.3\n",
    "!pip install numpy==1.23.5\n",
    "!pip install tensorflow==2.12.0\n",
    "!pip install scikit-learn==1.2.2"
   ]
  },
  {
   "cell_type": "code",
   "execution_count": 1,
   "id": "3fb8ba38",
   "metadata": {},
   "outputs": [
    {
     "name": "stderr",
     "output_type": "stream",
     "text": [
      "2024-08-02 09:18:57.593165: I tensorflow/core/platform/cpu_feature_guard.cc:182] This TensorFlow binary is optimized to use available CPU instructions in performance-critical operations.\n",
      "To enable the following instructions: AVX2 AVX512F FMA, in other operations, rebuild TensorFlow with the appropriate compiler flags.\n",
      "2024-08-02 09:18:59.412057: W tensorflow/compiler/tf2tensorrt/utils/py_utils.cc:38] TF-TRT Warning: Could not find TensorRT\n"
     ]
    }
   ],
   "source": [
    "import boto3 as b3\n",
    "import pandas as pds\n",
    "import tensorflow as tf\n",
    "import numpy as np\n",
    "from io import BytesIO\n",
    "from tensorflow.keras.models import Sequential\n",
    "from tensorflow.keras.layers import Dense, Embedding, Flatten, Input\n",
    "from tensorflow.keras.optimizers import Adam\n",
    "from sklearn.model_selection import train_test_split\n",
    "from sklearn.metrics import r2_score"
   ]
  },
  {
   "cell_type": "code",
   "execution_count": 2,
   "id": "7d5a8420",
   "metadata": {},
   "outputs": [],
   "source": [
    "# Initial set-up: --------------------------------------------------------------------------------\n",
    "\n",
    "# Grab s3\n",
    "s3 = b3.client('s3')\n",
    "\n",
    "# Bucket set-up\n",
    "the_bucket = 'groupproject-balducci'\n",
    "books_key = 'books_data.csv'\n",
    "ratings_key = 'Books_rating.csv'"
   ]
  },
  {
   "cell_type": "code",
   "execution_count": 3,
   "id": "d6efa3ae",
   "metadata": {},
   "outputs": [],
   "source": [
    "# Fetch books data and store\n",
    "books_data_object = s3.get_object(Bucket = the_bucket, Key = books_key)\n",
    "books_data = pds.read_csv(BytesIO(books_data_object['Body'].read()))\n",
    "\n",
    "# Fetch user ratings data and store\n",
    "books_rating_object = s3.get_object(Bucket = the_bucket, Key = ratings_key)\n",
    "books_rating = pds.read_csv(BytesIO(books_rating_object['Body'].read()))\n",
    "\n",
    "# Sample a fraction of the data\n",
    "fraction_to_sample = 0.12\n",
    "books_data_sample = books_data.sample(frac=fraction_to_sample, random_state=1)\n",
    "books_rating_sample = books_rating.sample(frac=fraction_to_sample, random_state=1)\n",
    "\n",
    "# Merge data together (Merge with 'Title' as the key and only merge rows that occur in both files)\n",
    "all_data = pds.merge(books_data_sample, books_rating_sample, on='Title', how='inner')"
   ]
  },
  {
   "cell_type": "code",
   "execution_count": 4,
   "id": "62492425",
   "metadata": {},
   "outputs": [],
   "source": [
    "# Data Preprocessing: ----------------------------------------------------------------------------\n",
    "\n",
    "# Replace missing values in DataFrame with 0\n",
    "all_data = all_data.fillna(0)\n",
    "\n",
    "# Create a matrix of users (rows) to books (columns) based on user ratings\n",
    "rating_matrix = all_data.pivot_table(index = 'User_id', columns = 'Title', values = 'review/score')\n",
    "\n",
    "# If user hasn't rated a book add a zero\n",
    "rating_matrix = rating_matrix.fillna(0)\n",
    "\n",
    "from sklearn.preprocessing import LabelEncoder\n",
    "\n",
    "# Convert User_id and Title to strings to allow encoding\n",
    "all_data['User_id'] = all_data['User_id'].astype(str)\n",
    "all_data['Title'] = all_data['Title'].astype(str)\n",
    "\n",
    "# Create encoders for users and books\n",
    "user_encoder = LabelEncoder()\n",
    "book_encoder = LabelEncoder()\n",
    "\n",
    "# Encode them\n",
    "all_data['User_id_encoded'] = user_encoder.fit_transform(all_data['User_id'])\n",
    "all_data['Title_encoded'] = book_encoder.fit_transform(all_data['Title'])\n",
    "\n",
    "# Create X as an array of [User_id_encoded, Title_encoded] objects\n",
    "X = all_data[['User_id_encoded', 'Title_encoded']].values\n",
    "\n",
    "# Create y as an array of review/scores\n",
    "y = all_data['review/score'].values\n",
    "\n",
    "# TT set splitting\n",
    "X_train, X_test, y_train, y_test = train_test_split(X, y, test_size=0.2, random_state=25)"
   ]
  },
  {
   "cell_type": "code",
   "execution_count": 5,
   "id": "a65bb1a1",
   "metadata": {},
   "outputs": [
    {
     "name": "stderr",
     "output_type": "stream",
     "text": [
      "2024-08-02 09:21:31.836698: E tensorflow/compiler/xla/stream_executor/cuda/cuda_driver.cc:266] failed call to cuInit: CUDA_ERROR_NO_DEVICE: no CUDA-capable device is detected\n"
     ]
    },
    {
     "name": "stdout",
     "output_type": "stream",
     "text": [
      "Epoch 1/25\n",
      "989/989 [==============================] - 13s 12ms/step - loss: 3.0123 - mae: 1.2929 - val_loss: 1.3517 - val_mae: 0.9105\n",
      "Epoch 2/25\n",
      "989/989 [==============================] - 12s 12ms/step - loss: 0.8245 - mae: 0.6597 - val_loss: 1.4284 - val_mae: 0.9537\n",
      "Epoch 3/25\n",
      "989/989 [==============================] - 12s 12ms/step - loss: 0.4432 - mae: 0.4417 - val_loss: 1.3763 - val_mae: 0.8994\n",
      "Epoch 4/25\n",
      "989/989 [==============================] - 12s 12ms/step - loss: 0.3397 - mae: 0.3492 - val_loss: 1.4214 - val_mae: 0.9331\n",
      "Epoch 5/25\n",
      "989/989 [==============================] - 12s 12ms/step - loss: 0.2979 - mae: 0.3088 - val_loss: 1.4162 - val_mae: 0.9254\n",
      "Epoch 6/25\n",
      "989/989 [==============================] - 12s 12ms/step - loss: 0.2779 - mae: 0.2914 - val_loss: 1.4341 - val_mae: 0.9432\n",
      "Epoch 7/25\n",
      "989/989 [==============================] - 12s 12ms/step - loss: 0.2640 - mae: 0.2767 - val_loss: 1.4728 - val_mae: 0.9492\n",
      "Epoch 8/25\n",
      "989/989 [==============================] - 12s 12ms/step - loss: 0.2566 - mae: 0.2739 - val_loss: 1.4336 - val_mae: 0.9250\n",
      "Epoch 9/25\n",
      "989/989 [==============================] - 12s 12ms/step - loss: 0.2455 - mae: 0.2622 - val_loss: 1.4770 - val_mae: 0.9442\n",
      "Epoch 10/25\n",
      "989/989 [==============================] - 12s 12ms/step - loss: 0.2385 - mae: 0.2553 - val_loss: 1.4803 - val_mae: 0.9527\n",
      "Epoch 11/25\n",
      "989/989 [==============================] - 12s 12ms/step - loss: 0.2325 - mae: 0.2478 - val_loss: 1.4341 - val_mae: 0.9241\n",
      "Epoch 12/25\n",
      "989/989 [==============================] - 12s 12ms/step - loss: 0.2257 - mae: 0.2397 - val_loss: 1.4387 - val_mae: 0.9280\n",
      "Epoch 13/25\n",
      "989/989 [==============================] - 12s 12ms/step - loss: 0.2198 - mae: 0.2308 - val_loss: 1.4633 - val_mae: 0.9291\n",
      "Epoch 14/25\n",
      "989/989 [==============================] - 13s 13ms/step - loss: 0.2157 - mae: 0.2276 - val_loss: 1.4410 - val_mae: 0.9219\n",
      "Epoch 15/25\n",
      "989/989 [==============================] - 12s 12ms/step - loss: 0.2138 - mae: 0.2259 - val_loss: 1.4401 - val_mae: 0.9223\n",
      "Epoch 16/25\n",
      "989/989 [==============================] - 12s 12ms/step - loss: 0.2109 - mae: 0.2209 - val_loss: 1.4481 - val_mae: 0.9357\n",
      "Epoch 17/25\n",
      "989/989 [==============================] - 12s 12ms/step - loss: 0.2066 - mae: 0.2161 - val_loss: 1.4540 - val_mae: 0.9297\n",
      "Epoch 18/25\n",
      "989/989 [==============================] - 12s 12ms/step - loss: 0.2060 - mae: 0.2164 - val_loss: 1.4353 - val_mae: 0.9077\n",
      "Epoch 19/25\n",
      "989/989 [==============================] - 12s 12ms/step - loss: 0.2040 - mae: 0.2138 - val_loss: 1.4356 - val_mae: 0.9102\n",
      "Epoch 20/25\n",
      "989/989 [==============================] - 12s 12ms/step - loss: 0.2016 - mae: 0.2103 - val_loss: 1.4309 - val_mae: 0.9053\n",
      "Epoch 21/25\n",
      "989/989 [==============================] - 12s 12ms/step - loss: 0.2004 - mae: 0.2099 - val_loss: 1.4261 - val_mae: 0.9157\n",
      "Epoch 22/25\n",
      "989/989 [==============================] - 12s 12ms/step - loss: 0.1994 - mae: 0.2064 - val_loss: 1.4390 - val_mae: 0.9098\n",
      "Epoch 23/25\n",
      "989/989 [==============================] - 12s 12ms/step - loss: 0.1981 - mae: 0.2049 - val_loss: 1.4798 - val_mae: 0.9268\n",
      "Epoch 24/25\n",
      "989/989 [==============================] - 12s 12ms/step - loss: 0.1965 - mae: 0.2029 - val_loss: 1.4418 - val_mae: 0.9299\n",
      "Epoch 25/25\n",
      "989/989 [==============================] - 12s 12ms/step - loss: 0.1955 - mae: 0.2002 - val_loss: 1.4524 - val_mae: 0.9071\n",
      "275/275 [==============================] - 0s 750us/step\n",
      "R2 score on test data: -0.04984052818631257\n"
     ]
    }
   ],
   "source": [
    "# Neural Network Model: --------------------------------------------------------------------------\n",
    "\n",
    "# Tell TF to not look for GPUs\n",
    "import os\n",
    "os.environ[\"CUDA_VISIBLE_DEVICES\"] = \"-1\"\n",
    "\n",
    "# Grab counts:\n",
    "user_count = len(rating_matrix.index)\n",
    "item_count = len(rating_matrix.columns)\n",
    "\n",
    "# Feature count per user (Smaller is less costly but less accurate)\n",
    "embedding_size = 50\n",
    "\n",
    "# Model start\n",
    "model = Sequential()\n",
    "\n",
    "# Using User_id as the input (1)\n",
    "model.add(Input(shape = [2]))\n",
    "\n",
    "# Convert each user to into a profile of embedding_size\n",
    "model.add(Embedding(input_dim = user_count + item_count, output_dim = embedding_size, input_length=2))\n",
    "\n",
    "# Flatten profiles into single lines\n",
    "model.add(Flatten())\n",
    "\n",
    "# Create the hidden layer (64 neurons)\n",
    "model.add(Dense(64, activation = 'relu'))\n",
    "\n",
    "# Create the output layer\n",
    "model.add(Dense(1, activation='linear'))\n",
    "\n",
    "# Compile time! (Using Regression)\n",
    "model.compile(optimizer = 'adam', loss = 'mean_squared_error', metrics = ['mae'])\n",
    "\n",
    "# Train the model\n",
    "model.fit(X_train, y_train, epochs=25, batch_size=32, verbose=1, validation_split=0.1)\n",
    "\n",
    "# Prediction\n",
    "y_pred = model.predict(X_test).flatten()\n",
    "\n",
    "# Calculate R2 score\n",
    "r2 = r2_score(y_test, y_pred)\n",
    "print(f\"R2 score on test data: {r2}\")"
   ]
  },
  {
   "cell_type": "code",
   "execution_count": 8,
   "id": "97b28089",
   "metadata": {},
   "outputs": [
    {
     "name": "stdout",
     "output_type": "stream",
     "text": [
      "275/275 [==============================] - 0s 756us/step\n"
     ]
    },
    {
     "data": {
      "image/png": "[encoded data removed]",
      "text/plain": [
       "<Figure size 1000x600 with 1 Axes>"
      ]
     },
     "metadata": {},
     "output_type": "display_data"
    }
   ],
   "source": [
    "import matplotlib.pyplot as plt\n",
    "\n",
    "# Predict on test data\n",
    "y_pred = model.predict(X_test).flatten()\n",
    "\n",
    "# Scatter plot of actual vs. predicted values\n",
    "plt.figure(figsize=(10, 6))\n",
    "plt.scatter(y_test, y_pred, alpha=0.5)\n",
    "plt.xlabel('Actual Values')\n",
    "plt.ylabel('Predicted Values')\n",
    "plt.title('Actual vs. Predicted Values')\n",
    "plt.show()"
   ]
  },
  {
   "cell_type": "code",
   "execution_count": null,
   "id": "1324fc52",
   "metadata": {},
   "outputs": [],
   "source": []
  }
 ],
 "metadata": {
  "kernelspec": {
   "display_name": "conda_python3",
   "language": "python",
   "name": "conda_python3"
  },
  "language_info": {
   "codemirror_mode": {
    "name": "ipython",
    "version": 3
   },
   "file_extension": ".py",
   "mimetype": "text/x-python",
   "name": "python",
   "nbconvert_exporter": "python",
   "pygments_lexer": "ipython3",
   "version": "3.10.14"
  }
 },
 "nbformat": 4,
 "nbformat_minor": 5
}
