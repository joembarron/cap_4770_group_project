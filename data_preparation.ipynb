{
 "cells": [
  {
   "cell_type": "code",
   "execution_count": 80,
   "id": "97922ebb",
   "metadata": {},
   "outputs": [],
   "source": [
    "import pandas as pd\n",
    "\n",
    "books_file_path = 's3://cap4770-2024summer12/books_data.csv'\n",
    "book_ratings_file_path = 's3://cap4770-2024summer12/Books_rating.csv'"
   ]
  },
  {
   "cell_type": "code",
   "execution_count": 81,
   "id": "3720ec50",
   "metadata": {},
   "outputs": [],
   "source": [
    "def get_csv_chunk(csv_file_path, columns_to_select, chunksize):\n",
    "    for chunk in pd.read_csv(csv_file_path, usecols=columns_to_select, chunksize=chunksize):\n",
    "        yield chunk"
   ]
  },
  {
   "cell_type": "markdown",
   "id": "57777443",
   "metadata": {},
   "source": [
    "### Remove unnecessary columns from books data(columns not needed for searching for a book from the frontend)."
   ]
  },
  {
   "cell_type": "code",
   "execution_count": 82,
   "id": "d208429d",
   "metadata": {},
   "outputs": [],
   "source": [
    "header = True\n",
    "for chunk in get_csv_chunk(books_file_path, ['Title', 'authors', 'image'], 100000):\n",
    "    chunk = chunk.rename(columns={'Title': 'title'})\n",
    "    chunk = chunk.loc[chunk['title'].notnull() & chunk['authors'].notnull()] # Drop any rows with null values in the title and author columns.\n",
    "    chunk.to_csv('s3://cap4770-2024summer12/filtered_books.csv', header=header, columns=['title', 'authors', 'image'], mode='a')\n",
    "    header = False"
   ]
  },
  {
   "cell_type": "markdown",
   "id": "0d9c16f0",
   "metadata": {},
   "source": [
    "### Remove unnecessary columns, drop null records from book ratings data."
   ]
  },
  {
   "cell_type": "code",
   "execution_count": 79,
   "id": "6ddfe756",
   "metadata": {},
   "outputs": [],
   "source": [
    "header = True\n",
    "for chunk in get_csv_chunk(book_ratings_file_path, ['User_id', 'Title', 'review/score'], 100000):\n",
    "    chunk = chunk.rename(columns={'User_id': 'user_id', 'Title': 'title', 'review/score': 'rating'})\n",
    "    chunk = chunk.dropna(axis=0) # Drop any rows with null values in the user_id, title, or rating columns.\n",
    "    chunk.to_csv('s3://cap4770-2024summer12/filtered_book_ratings.csv', header=header, columns=['user_id', 'title', 'rating'], mode='a')\n",
    "    header = False"
   ]
  }
 ],
 "metadata": {
  "kernelspec": {
   "display_name": "conda_python3",
   "language": "python",
   "name": "conda_python3"
  },
  "language_info": {
   "codemirror_mode": {
    "name": "ipython",
    "version": 3
   },
   "file_extension": ".py",
   "mimetype": "text/x-python",
   "name": "python",
   "nbconvert_exporter": "python",
   "pygments_lexer": "ipython3",
   "version": "3.10.14"
  }
 },
 "nbformat": 4,
 "nbformat_minor": 5
}
