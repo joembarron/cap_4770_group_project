{
 "cells": [
  {
   "cell_type": "code",
   "execution_count": null,
   "id": "2a055179",
   "metadata": {},
   "outputs": [],
   "source": [
    "pip install -r ./requirements.txt"
   ]
  },
  {
   "cell_type": "code",
   "execution_count": null,
   "id": "56dc5123",
   "metadata": {},
   "outputs": [],
   "source": [
    "import time\n",
    "\n",
    "import matplotlib.pyplot as plt\n",
    "\n",
    "import pandas as pd\n",
    "\n",
    "from sklearn.metrics import mean_squared_error\n",
    "from sklearn.model_selection import GridSearchCV, train_test_split\n",
    "from sklearn.neighbors import KNeighborsRegressor\n",
    "\n",
    "merged_book_attributes_gold = './data/gold/merged_book_attributes.csv'"
   ]
  },
  {
   "cell_type": "code",
   "execution_count": null,
   "id": "8b932246",
   "metadata": {},
   "outputs": [],
   "source": [
    "merged_book_attributes = pd.read_csv(merged_book_attributes_gold)"
   ]
  },
  {
   "cell_type": "code",
   "execution_count": null,
   "id": "d3672f13",
   "metadata": {},
   "outputs": [],
   "source": [
    "X_train, X_test, y_train, y_test = train_test_split(merged_book_attributes[['price', 'full_review_sentiment_score', 'review_summary_sentiment_score', 'books_average_rating']], merged_book_attributes[['rating']], test_size=0.2, random_state=42)"
   ]
  },
  {
   "cell_type": "code",
   "execution_count": null,
   "id": "b388a91b",
   "metadata": {},
   "outputs": [],
   "source": [
    "knn_regressor = KNeighborsRegressor()\n",
    "param_grid = {'n_neighbors': range(1, 17), 'weights': ['uniform', 'distance']}\n",
    "best_knn_regressor = GridSearchCV(knn_regressor, param_grid, cv=5, scoring='r2')"
   ]
  },
  {
   "cell_type": "code",
   "execution_count": null,
   "id": "0293d467",
   "metadata": {},
   "outputs": [],
   "source": [
    "start = time.time()\n",
    "best_knn_regressor.fit(X_train, y_train)\n",
    "stop = time.time()\n",
    "knn_regressor_training_time = round(stop - start, 2)"
   ]
  },
  {
   "cell_type": "code",
   "execution_count": null,
   "id": "de656dea",
   "metadata": {},
   "outputs": [],
   "source": [
    "print(f\"K-nearest neighbors training time: {knn_regressor_training_time}s\")\n",
    "print(\"Best parameters:\", best_knn_regressor.best_params_)\n",
    "print(\"Best r2 score:\", best_knn_regressor.best_score_)"
   ]
  },
  {
   "cell_type": "code",
   "execution_count": null,
   "id": "62e1cca6",
   "metadata": {},
   "outputs": [],
   "source": [
    "print(f\"r2 score on test data: {best_knn_regressor.score(X_test, y_test)}\")"
   ]
  },
  {
   "cell_type": "code",
   "execution_count": null,
   "id": "d93c60f5",
   "metadata": {},
   "outputs": [],
   "source": [
    "knn_models = []\n",
    "for k in range(1, 17):\n",
    "    knn_regressor = KNeighborsRegressor(n_neighbors=k)\n",
    "    knn_models.append(knn_regressor)"
   ]
  },
  {
   "cell_type": "code",
   "execution_count": null,
   "id": "59ea846c",
   "metadata": {},
   "outputs": [],
   "source": [
    "mse_values = []\n",
    "for index, knn_regressor in enumerate(knn_models):\n",
    "    knn_regressor.fit(X_train, y_train)\n",
    "    y_pred = knn_regressor.predict(X_test)\n",
    "    mse = mean_squared_error(y_test, y_pred)\n",
    "    mse_values.append(mse)"
   ]
  },
  {
   "cell_type": "code",
   "execution_count": null,
   "id": "6bc15c4d",
   "metadata": {},
   "outputs": [],
   "source": [
    "plt.plot([i for i in range(1, len(knn_models) + 1)], mse_values)\n",
    "plt.xlabel('Number of Neighbors (k)')\n",
    "plt.ylabel('Mean Squared Error (MSE)')\n",
    "plt.title('Elbow plot for k-nearest neighbors regression model')\n",
    "plt.show()"
   ]
  },
  {
   "cell_type": "code",
   "execution_count": 1,
   "id": "86858f1c",
   "metadata": {},
   "outputs": [],
   "source": [
    "import matplotlib.pyplot as plt"
   ]
  },
  {
   "cell_type": "code",
   "execution_count": null,
   "id": "d606a4d2",
   "metadata": {},
   "outputs": [],
   "source": []
  }
 ],
 "metadata": {
  "kernelspec": {
   "display_name": "conda_python3",
   "language": "python",
   "name": "conda_python3"
  },
  "language_info": {
   "codemirror_mode": {
    "name": "ipython",
    "version": 3
   },
   "file_extension": ".py",
   "mimetype": "text/x-python",
   "name": "python",
   "nbconvert_exporter": "python",
   "pygments_lexer": "ipython3",
   "version": "3.10.14"
  }
 },
 "nbformat": 4,
 "nbformat_minor": 5
}
