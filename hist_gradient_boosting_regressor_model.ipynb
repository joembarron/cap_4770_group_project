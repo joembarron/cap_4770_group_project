{
 "cells": [
  {
   "cell_type": "code",
   "execution_count": null,
   "id": "9dd5d73c",
   "metadata": {},
   "outputs": [],
   "source": [
    "pip install -r ./requirements.txt"
   ]
  },
  {
   "cell_type": "code",
   "execution_count": null,
   "id": "1f32d358",
   "metadata": {},
   "outputs": [],
   "source": [
    "import time\n",
    "\n",
    "import pandas as pd\n",
    "\n",
    "from sklearn.ensemble import HistGradientBoostingRegressor\n",
    "from sklearn.model_selection import GridSearchCV, train_test_split\n",
    "\n",
    "merged_book_attributes_gold = './data/gold/merged_book_attributes.csv'"
   ]
  },
  {
   "cell_type": "code",
   "execution_count": null,
   "id": "fa9ce445",
   "metadata": {},
   "outputs": [],
   "source": [
    "merged_book_attributes = pd.read_csv(merged_book_attributes_gold)"
   ]
  },
  {
   "cell_type": "code",
   "execution_count": null,
   "id": "eb89fb73",
   "metadata": {},
   "outputs": [],
   "source": [
    "X_train, X_test, y_train, y_test = train_test_split(merged_book_attributes[['price', 'full_review_sentiment_score', 'review_summary_sentiment_score', 'books_average_rating']], merged_book_attributes[['rating']], test_size=0.2, random_state=42)"
   ]
  },
  {
   "cell_type": "code",
   "execution_count": null,
   "id": "8c60e37c",
   "metadata": {},
   "outputs": [],
   "source": [
    "param_grid = {\n",
    "    'max_iter': [50, 100, 200],\n",
    "    'max_bins': [50, 100, 255],\n",
    "    'learning_rate': [0.1, 0.5, 1.0]\n",
    "}\n",
    "\n",
    "best_gb_regressor = GridSearchCV(HistGradientBoostingRegressor(), param_grid, cv=5, scoring='r2')"
   ]
  },
  {
   "cell_type": "code",
   "execution_count": null,
   "id": "b8221dbd",
   "metadata": {},
   "outputs": [],
   "source": [
    "start = time.time()\n",
    "best_gb_regressor.fit(X_train, y_train.values.ravel())\n",
    "stop = time.time()\n",
    "gb_regressor_training_time = round(stop - start, 2)"
   ]
  },
  {
   "cell_type": "code",
   "execution_count": null,
   "id": "54e54f4b",
   "metadata": {},
   "outputs": [],
   "source": [
    "print(f\"Gradient Boosting Regressor training time: {gb_regressor_training_time}s\")\n",
    "print(\"Best parameters:\", best_gb_regressor.best_params_)\n",
    "print(\"Best r2 score:\", best_gb_regressor.best_score_)"
   ]
  },
  {
   "cell_type": "code",
   "execution_count": null,
   "id": "a16246f9",
   "metadata": {},
   "outputs": [],
   "source": [
    "print(f\"r2 score on test data: {best_gb_regressor.score(X_test, y_test)}\")"
   ]
  }
 ],
 "metadata": {
  "kernelspec": {
   "display_name": "conda_python3",
   "language": "python",
   "name": "conda_python3"
  },
  "language_info": {
   "codemirror_mode": {
    "name": "ipython",
    "version": 3
   },
   "file_extension": ".py",
   "mimetype": "text/x-python",
   "name": "python",
   "nbconvert_exporter": "python",
   "pygments_lexer": "ipython3",
   "version": "3.10.14"
  }
 },
 "nbformat": 4,
 "nbformat_minor": 5
}
