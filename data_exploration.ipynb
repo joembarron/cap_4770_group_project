{
 "cells": [
  {
   "cell_type": "markdown",
   "id": "5c7ee4e9",
   "metadata": {},
   "source": [
    "#### This notebook explores the ingested book and book review data to find trends that could be helpful when selecting attributes  in model construction."
   ]
  },
  {
   "cell_type": "code",
   "execution_count": null,
   "id": "d6b8e5c7",
   "metadata": {},
   "outputs": [],
   "source": [
    "import matplotlib.pyplot as plt\n",
    "import pandas as pd\n",
    "\n",
    "books_silver = './data/silver/filtered_books.csv'\n",
    "book_reviews_silver = './data/silver/filtered_book_ratings.csv'"
   ]
  },
  {
   "cell_type": "code",
   "execution_count": null,
   "id": "b8503f5f",
   "metadata": {},
   "outputs": [],
   "source": [
    "published_date_ratings_count = pd.read_csv(books_silver, usecols=[\"published_date\", \"ratings_count\"])\n",
    "\n",
    "published_date = published_date_ratings_count[\"published_date\"].tolist()\n",
    "ratings_count = published_date_ratings_count[\"ratings_count\"].tolist()\n",
    "\n",
    "plt.scatter(published_date, ratings_count, color='black')\n",
    "plt.xlabel(\"Book Publication Year\")\n",
    "plt.ylabel(\"Number of Ratings\")"
   ]
  },
  {
   "cell_type": "code",
   "execution_count": null,
   "id": "653e3152",
   "metadata": {},
   "outputs": [],
   "source": [
    "price_rating = pd.read_csv(book_reviews_silver, usecols=[\"price\", \"rating\"])\n",
    "\n",
    "price = price_rating[\"price\"].tolist()\n",
    "rating = price_rating[\"rating\"].tolist()\n",
    "\n",
    "plt.scatter(price, rating, color='black')\n",
    "plt.xlabel(\"Book Price\")\n",
    "plt.ylabel(\"Rating\")"
   ]
  },
  {
   "cell_type": "code",
   "execution_count": null,
   "id": "6a7bda22",
   "metadata": {},
   "outputs": [],
   "source": [
    "plt.hist(price, bins=100, color='black')\n",
    "plt.xlabel('Book Price')\n",
    "plt.ylabel('Count')"
   ]
  },
  {
   "cell_type": "code",
   "execution_count": null,
   "id": "428d8ab6",
   "metadata": {},
   "outputs": [],
   "source": [
    "title_published_date_ratings_count = pd.read_csv(books_silver, usecols=[\"title\", \"published_date\", \"ratings_count\"])\n",
    "title_price_rating = pd.read_csv(book_reviews_silver, usecols=[\"title\", \"price\", \"rating\"])\n",
    "\n",
    "merged_book_attributes = title_published_date_ratings_count.merge(title_price_rating, on='title')\n",
    "\n",
    "average_ratings_count_by_rating = merged_book_attributes[[\"ratings_count\", \"rating\"]].groupby('rating').mean('ratings_count').reset_index()\n",
    "average_ratings_count_by_rating[\"rating\"] = average_ratings_count_by_rating[\"rating\"].astype(str)\n",
    "\n",
    "rating = average_ratings_count_by_rating[\"rating\"].tolist()\n",
    "ratings_count = average_ratings_count_by_rating[\"ratings_count\"].tolist()\n",
    "\n",
    "plt.bar(rating, ratings_count, color='black')\n",
    "plt.xlabel('Rating')\n",
    "plt.ylabel('Average Ratings Count')"
   ]
  }
 ],
 "metadata": {
  "kernelspec": {
   "display_name": "conda_python3",
   "language": "python",
   "name": "conda_python3"
  },
  "language_info": {
   "codemirror_mode": {
    "name": "ipython",
    "version": 3
   },
   "file_extension": ".py",
   "mimetype": "text/x-python",
   "name": "python",
   "nbconvert_exporter": "python",
   "pygments_lexer": "ipython3",
   "version": "3.10.14"
  }
 },
 "nbformat": 4,
 "nbformat_minor": 5
}
