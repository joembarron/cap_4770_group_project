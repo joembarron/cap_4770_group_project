{
 "cells": [
  {
   "cell_type": "markdown",
   "id": "069c9f52",
   "metadata": {},
   "source": [
    "#### This script expects a kaggle.json file with your API credentials to be located at ~/.kaggle/kaggle.json(on Linux/OSX machines). Details for retrieving one's API credentials and authenticating to Kaggle can be found at https://www.kaggle.com/docs/api."
   ]
  },
  {
   "cell_type": "code",
   "execution_count": null,
   "id": "34bc426e",
   "metadata": {},
   "outputs": [],
   "source": [
    "!mkdir ./data/raw -p\n",
    "!kaggle datasets download -d mohamedbakhet/amazon-books-reviews -p ./data/raw --unzip\n",
    "!mv ./data/raw/books_data.csv ./data/raw/books.csv\n",
    "!mv ./data/raw/Books_rating.csv ./data/raw/book_reviews.csv"
   ]
  }
 ],
 "metadata": {
  "kernelspec": {
   "display_name": "conda_python3",
   "language": "python",
   "name": "conda_python3"
  },
  "language_info": {
   "codemirror_mode": {
    "name": "ipython",
    "version": 3
   },
   "file_extension": ".py",
   "mimetype": "text/x-python",
   "name": "python",
   "nbconvert_exporter": "python",
   "pygments_lexer": "ipython3",
   "version": "3.10.14"
  }
 },
 "nbformat": 4,
 "nbformat_minor": 5
}
