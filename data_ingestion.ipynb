{
 "cells": [
  {
   "cell_type": "markdown",
   "id": "069c9f52",
   "metadata": {},
   "source": [
    "#### This script expects a kaggle.json file with your API credentials to be located at ~/.kaggle/kaggle.json(on Linux/OSX machines). Details for retrieving one's API credentials and authenticating to Kaggle can be found at https://www.kaggle.com/docs/api."
   ]
  },
  {
   "cell_type": "code",
   "execution_count": 1,
   "id": "a74d1b04",
   "metadata": {
    "scrolled": true
   },
   "outputs": [
    {
     "name": "stdout",
     "output_type": "stream",
     "text": [
      "Note: you may need to restart the kernel to use updated packages.\n"
     ]
    }
   ],
   "source": [
    "pip install -r ./requirements.txt"
   ]
  },
  {
   "cell_type": "code",
   "execution_count": null,
   "id": "34bc426e",
   "metadata": {},
   "outputs": [],
   "source": [
    "!mkdir ./data/bronze -p\n",
    "!mkdir ./data/silver\n",
    "!mkdir ./data/gold\n",
    "\n",
    "!kaggle datasets download -d mohamedbakhet/amazon-books-reviews -p ./data/bronze --unzip\n",
    "!mv ./data/bronze/books_data.csv ./data/bronze/books.csv\n",
    "!mv ./data/bronze/Books_rating.csv ./data/bronze/book_reviews.csv"
   ]
  }
 ],
 "metadata": {
  "kernelspec": {
   "display_name": "conda_python3",
   "language": "python",
   "name": "conda_python3"
  },
  "language_info": {
   "codemirror_mode": {
    "name": "ipython",
    "version": 3
   },
   "file_extension": ".py",
   "mimetype": "text/x-python",
   "name": "python",
   "nbconvert_exporter": "python",
   "pygments_lexer": "ipython3",
   "version": "3.10.14"
  }
 },
 "nbformat": 4,
 "nbformat_minor": 5
}
